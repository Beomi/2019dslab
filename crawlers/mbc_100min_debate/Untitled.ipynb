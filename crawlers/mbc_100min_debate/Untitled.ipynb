{
 "cells": [
  {
   "cell_type": "code",
   "execution_count": 1,
   "metadata": {},
   "outputs": [],
   "source": [
    "import os\n",
    "from pathlib import Path\n",
    "\n",
    "import json\n",
    "from pprint import pprint\n",
    "import requests\n",
    "from bs4 import BeautifulSoup as bs\n",
    "from tqdm.auto import tqdm\n",
    "\n",
    "QUERY_URL = 'http://script.imbc.com/scenario_billing_check_adam.asp?ContID={}'\n",
    "CURRENT_DIR = Path.cwd()\n",
    "\n",
    "\n",
    "def get_scripts_by_broadcast_id(broadcast_id):\n",
    "    headers = {\n",
    "        'Connection': 'keep-alive',\n",
    "        'Pragma': 'no-cache',\n",
    "        'Cache-Control': 'no-cache',\n",
    "        'Origin': 'http://member.imbc.com',\n",
    "        'Upgrade-Insecure-Requests': '1',\n",
    "        'DNT': '1',\n",
    "        'Content-Type': 'application/x-www-form-urlencoded',\n",
    "        'User-Agent': 'Mozilla/5.0 (Macintosh; Intel Mac OS X 10_14_4) AppleWebKit/537.36 (KHTML, like Gecko) Chrome/75.0.3770.100 Safari/537.36',\n",
    "        'Accept': 'text/html,application/xhtml+xml,application/xml;q=0.9,image/webp,image/apng,*/*;q=0.8,application/signed-exchange;v=b3',\n",
    "        'Referer': 'http://member.imbc.com/Login/Login.aspx',\n",
    "        'Accept-Encoding': 'gzip, deflate, br',\n",
    "        'Accept-Language': 'ko-KR,ko;q=0.9,en-US;q=0.8,en;q=0.7',\n",
    "    }\n",
    "\n",
    "    data = {\n",
    "        'TemplateID': 'main',\n",
    "        'TURL': '',\n",
    "        'confirmMsg': '',\n",
    "        'IdsafeURL': '',\n",
    "        'AdultYN': 'n',\n",
    "        'AppID': '',\n",
    "        'SNSType': '',\n",
    "        'Uid': os.environ.get('MBC_ID'),\n",
    "        'Password': os.environ.get('MBC_PW')\n",
    "    }\n",
    "\n",
    "    s = requests.Session()\n",
    "    s.headers = headers\n",
    "\n",
    "    # login\n",
    "    login = s.post('https://member.imbc.com/Login/LoginProcess.aspx', data=data)\n",
    "    assert '로그아웃' in s.get('http://www.imbc.com/').text\n",
    "    r = s.get(QUERY_URL.format(broadcast_id))\n",
    "    soup = bs(r.text, 'lxml')\n",
    "    try:\n",
    "        contents = soup.select_one('pre').text.split('\\n\\n')\n",
    "    except AttributeError as e:\n",
    "        print(e)\n",
    "        print(QUERY_URL.format(broadcast_id))\n",
    "        print(r.text)\n",
    "        raise e\n",
    "    result = ''\n",
    "    for c in contents:\n",
    "        result += ' '.join(c.split()).strip() + '\\n'\n",
    "    return contents.strip()"
   ]
  },
  {
   "cell_type": "code",
   "execution_count": 8,
   "metadata": {},
   "outputs": [
    {
     "data": {
      "application/vnd.jupyter.widget-view+json": {
       "model_id": "515f8a39587e4941a1a8ca2a72b8e73c",
       "version_major": 2,
       "version_minor": 0
      },
      "text/plain": [
       "HBox(children=(IntProgress(value=0, max=839), HTML(value='')))"
      ]
     },
     "metadata": {},
     "output_type": "display_data"
    },
    {
     "name": "stdout",
     "output_type": "stream",
     "text": [
      "\n"
     ]
    },
    {
     "ename": "AssertionError",
     "evalue": "",
     "output_type": "error",
     "traceback": [
      "\u001b[0;31m---------------------------------------------------------------------------\u001b[0m",
      "\u001b[0;31mAssertionError\u001b[0m                            Traceback (most recent call last)",
      "\u001b[0;32m<ipython-input-8-617cd441e173>\u001b[0m in \u001b[0;36m<module>\u001b[0;34m\u001b[0m\n\u001b[1;32m      3\u001b[0m \u001b[0;32mfor\u001b[0m \u001b[0mi\u001b[0m \u001b[0;32min\u001b[0m \u001b[0mtqdm\u001b[0m\u001b[0;34m(\u001b[0m\u001b[0mlist\u001b[0m\u001b[0;34m(\u001b[0m\u001b[0mreversed\u001b[0m\u001b[0;34m(\u001b[0m\u001b[0mdata\u001b[0m\u001b[0;34m)\u001b[0m\u001b[0;34m)\u001b[0m\u001b[0;34m[\u001b[0m\u001b[0;36m1\u001b[0m\u001b[0;34m:\u001b[0m\u001b[0;34m]\u001b[0m\u001b[0;34m)\u001b[0m\u001b[0;34m:\u001b[0m\u001b[0;34m\u001b[0m\u001b[0m\n\u001b[1;32m      4\u001b[0m     json.dump(\n\u001b[0;32m----> 5\u001b[0;31m         \u001b[0;34m{\u001b[0m\u001b[0;34m**\u001b[0m\u001b[0mi\u001b[0m\u001b[0;34m,\u001b[0m \u001b[0;34m**\u001b[0m\u001b[0;34m{\u001b[0m\u001b[0;34m'contents'\u001b[0m\u001b[0;34m:\u001b[0m \u001b[0mget_scripts_by_broadcast_id\u001b[0m\u001b[0;34m(\u001b[0m\u001b[0mi\u001b[0m\u001b[0;34m[\u001b[0m\u001b[0;34m'BroadCastID'\u001b[0m\u001b[0;34m]\u001b[0m\u001b[0;34m)\u001b[0m\u001b[0;34m}\u001b[0m\u001b[0;34m}\u001b[0m\u001b[0;34m,\u001b[0m\u001b[0;34m\u001b[0m\u001b[0m\n\u001b[0m\u001b[1;32m      6\u001b[0m         \u001b[0mopen\u001b[0m\u001b[0;34m(\u001b[0m\u001b[0mos\u001b[0m\u001b[0;34m.\u001b[0m\u001b[0mpath\u001b[0m\u001b[0;34m.\u001b[0m\u001b[0mjoin\u001b[0m\u001b[0;34m(\u001b[0m\u001b[0mCURRENT_DIR\u001b[0m\u001b[0;34m,\u001b[0m \u001b[0;34m'data'\u001b[0m\u001b[0;34m,\u001b[0m \u001b[0;34mf\"{i['BroadDate']}_{i['ContentNumber']}.json\"\u001b[0m\u001b[0;34m)\u001b[0m\u001b[0;34m,\u001b[0m \u001b[0;34m'w+'\u001b[0m\u001b[0;34m)\u001b[0m\u001b[0;34m\u001b[0m\u001b[0m\n\u001b[1;32m      7\u001b[0m     )\n",
      "\u001b[0;32m<ipython-input-7-27b389b46f25>\u001b[0m in \u001b[0;36mget_scripts_by_broadcast_id\u001b[0;34m(broadcast_id)\u001b[0m\n\u001b[1;32m     45\u001b[0m     \u001b[0;31m# login\u001b[0m\u001b[0;34m\u001b[0m\u001b[0;34m\u001b[0m\u001b[0m\n\u001b[1;32m     46\u001b[0m     \u001b[0mlogin\u001b[0m \u001b[0;34m=\u001b[0m \u001b[0ms\u001b[0m\u001b[0;34m.\u001b[0m\u001b[0mpost\u001b[0m\u001b[0;34m(\u001b[0m\u001b[0;34m'https://member.imbc.com/Login/LoginProcess.aspx'\u001b[0m\u001b[0;34m,\u001b[0m \u001b[0mdata\u001b[0m\u001b[0;34m=\u001b[0m\u001b[0mdata\u001b[0m\u001b[0;34m)\u001b[0m\u001b[0;34m\u001b[0m\u001b[0m\n\u001b[0;32m---> 47\u001b[0;31m     \u001b[0;32massert\u001b[0m \u001b[0;34m'로그아웃'\u001b[0m \u001b[0;32min\u001b[0m \u001b[0ms\u001b[0m\u001b[0;34m.\u001b[0m\u001b[0mget\u001b[0m\u001b[0;34m(\u001b[0m\u001b[0;34m'http://www.imbc.com/'\u001b[0m\u001b[0;34m)\u001b[0m\u001b[0;34m.\u001b[0m\u001b[0mtext\u001b[0m\u001b[0;34m\u001b[0m\u001b[0m\n\u001b[0m\u001b[1;32m     48\u001b[0m     \u001b[0mr\u001b[0m \u001b[0;34m=\u001b[0m \u001b[0ms\u001b[0m\u001b[0;34m.\u001b[0m\u001b[0mget\u001b[0m\u001b[0;34m(\u001b[0m\u001b[0mQUERY_URL\u001b[0m\u001b[0;34m.\u001b[0m\u001b[0mformat\u001b[0m\u001b[0;34m(\u001b[0m\u001b[0mbroadcast_id\u001b[0m\u001b[0;34m)\u001b[0m\u001b[0;34m)\u001b[0m\u001b[0;34m\u001b[0m\u001b[0m\n\u001b[1;32m     49\u001b[0m     \u001b[0msoup\u001b[0m \u001b[0;34m=\u001b[0m \u001b[0mbs\u001b[0m\u001b[0;34m(\u001b[0m\u001b[0mr\u001b[0m\u001b[0;34m.\u001b[0m\u001b[0mtext\u001b[0m\u001b[0;34m,\u001b[0m \u001b[0;34m'lxml'\u001b[0m\u001b[0;34m)\u001b[0m\u001b[0;34m\u001b[0m\u001b[0m\n",
      "\u001b[0;31mAssertionError\u001b[0m: "
     ]
    }
   ],
   "source": [
    "data = json.load(open(os.path.join(CURRENT_DIR, '1000842100000100000_1999-2019.json')))\n",
    "os.makedirs(os.path.join(CURRENT_DIR, 'data'), exist_ok=True)\n",
    "for i in tqdm(list(reversed(data))[1:]):\n",
    "    json.dump(\n",
    "        {**i, **{'contents': get_scripts_by_broadcast_id(i['BroadCastID'])}},\n",
    "        open(os.path.join(CURRENT_DIR, 'data', f\"{i['BroadDate']}_{i['ContentNumber']}.json\"), 'w+')\n",
    "    )"
   ]
  },
  {
   "cell_type": "code",
   "execution_count": 4,
   "metadata": {},
   "outputs": [
    {
     "name": "stdout",
     "output_type": "stream",
     "text": [
      "<script language='javascript'>\n",
      "window.location.href='http://www.imbc.com';\n",
      "</script>\n"
     ]
    }
   ],
   "source": [
    "headers = {\n",
    "    'Connection': 'keep-alive',\n",
    "    'Pragma': 'no-cache',\n",
    "    'Cache-Control': 'no-cache',\n",
    "    'Origin': 'http://member.imbc.com',\n",
    "    'Upgrade-Insecure-Requests': '1',\n",
    "    'DNT': '1',\n",
    "    'Content-Type': 'application/x-www-form-urlencoded',\n",
    "    'User-Agent': 'Mozilla/5.0 (Macintosh; Intel Mac OS X 10_14_4) AppleWebKit/537.36 (KHTML, like Gecko) Chrome/75.0.3770.100 Safari/537.36',\n",
    "    'Accept': 'text/html,application/xhtml+xml,application/xml;q=0.9,image/webp,image/apng,*/*;q=0.8,application/signed-exchange;v=b3',\n",
    "    'Referer': 'http://member.imbc.com/Login/Login.aspx',\n",
    "    'Accept-Encoding': 'gzip, deflate, br',\n",
    "    'Accept-Language': 'ko-KR,ko;q=0.9,en-US;q=0.8,en;q=0.7',\n",
    "}\n",
    "\n",
    "data = {\n",
    "    'TemplateID': 'main',\n",
    "    'TURL': '',\n",
    "    'confirmMsg': '',\n",
    "    'IdsafeURL': '',\n",
    "    'AdultYN': 'n',\n",
    "    'AppID': '',\n",
    "    'SNSType': '',\n",
    "    'Uid': os.environ.get('MBC_ID'),\n",
    "    'Password': os.environ.get('MBC_PW')\n",
    "}\n",
    "\n",
    "s = requests.Session()\n",
    "s.headers = headers\n",
    "\n",
    "# login\n",
    "login = s.post('https://member.imbc.com/Login/LoginProcess.aspx', data=data)\n",
    "print(login.text)"
   ]
  },
  {
   "cell_type": "code",
   "execution_count": 3,
   "metadata": {},
   "outputs": [
    {
     "data": {
      "text/plain": [
       "'<!DOCTYPE html>\\r\\n<html lang=\"ko\">\\r\\n<head>\\r\\n\\t<meta charset=\"euc-kr\">\\r\\n\\t<meta http-equiv=\"X-UA-Compatible\" content=\"IE=edge\">\\r\\n<meta property=\"og:title\" content=\"iMBC\">\\r\\n<meta property=\"og:site_name\" content=\"iMBC\">\\r\\n<meta property=\"og:type\" content=\"website\">\\r\\n<meta property=\"og:image\"\\r\\n content=\"http://img.imbc.com/commons/2018/image/comm2018noti/meta_mbc.png\">\\r\\n<meta property=\"og:description\" content=\"TV º¸´Ù ´õ Å« ¼¼»ó, iMBC\">                \\r\\n<meta property=\"og:url\" content=\"http://www.imbc.com\">\\r\\n\\r\\n\\t<title>iMBC</title>\\r\\n\\t<link href=\"http://www.imbc.com/commons/2018/css/slick.css\" rel=\"stylesheet\" type=\"text/css\">\\r\\n    <link href=\"http://www.imbc.com/commons/2018/css/style.v2.css\" rel=\"stylesheet\" type=\"text/css\">\\r\\n    <script src=\"http://www.imbc.com/commons/libs/jquery-1.12.3.min.js\"></script>\\r\\n\\t<script src=\"http://www.imbc.com/commons/2018/js/slick.js\" type=\"text/javascript\"></script>\\r\\n\\t<script src=\"http://www.imbc.com/commons/2018/js/common.js\" type=\"text/javascript\"></script>\\r\\n    <script src=\"http://www.imbc.com/commons/2018/js/lib.common.2018.js\" type=\"text/javascript\"></script>\\r\\n    <script src=\"http://www.imbc.com/commons/2018/js/lib.main.2018.v2.js\" type=\"text/javascript\"></script>\\r\\n    <script src=\"http://www.imbc.com/commons/2018/js/lib.main.2018.ui.v2.js\" type=\"text/javascript\"></script>\\r\\n    <script src=\"http://playvod.imbc.com/PreviewPlayer/PreviewPlayer.js\"></script>\\r\\n    <script type=\"text/javascript\" src=\"http://www.imbc.com/common/js/global_function.js\"></script>\\r\\n    <script src=\"https://cdn.jsdelivr.net/npm/hls.js@latest/dist/hls.min.js\"></script>\\r\\n    <!--[if lt IE 9]>\\r\\n    \\t <script src=\"http://www.imbc.com/commons/libs/html5shiv.min.js\" type=\"text/javascript\"></script>\\r\\n    <![endif]-->\\r\\n    \\r\\n</head>\\r\\n<body>\\r\\n        <div id=\"accessibility\">\\r\\n                <a href=\"#container\">º»¹® ¹Ù·Î°¡±â</a>\\r\\n        </div>\\r\\n\\t<div id=\"wrap\" class=\"main\">\\r\\n\\t\\t<div id=\"ch-mbc\" class=\"ch-mbc\">\\r\\n\\t\\t\\t<div class=\"ch-mbc-top\"><img src=\"http://img.imbc.com/commons/2018/image/main/ch-mbc-top.jpg\" alt=\"chMBC\" /></div>\\r\\n\\t\\t\\t<div class=\"ch-mbc-wrap\">\\r\\n\\t\\t\\t\\t<!-- ch MBC ºÒ·¯¿À´Â°÷ -->\\r\\n\\t\\t\\t</div>\\r\\n\\t\\t</div>\\r\\n\\t\\t<div class=\"main-wrap\">\\r\\n\\t\\t\\t<button class=\"ch-mbc-btn\"><span><img src=\"http://img.imbc.com/commons/2018/image/main/ch-mbc-btn.jpg\" alt=\"chMBC¹öÆ°\" /></span></button>\\r\\n\\t\\t\\t<div id=\"header\">\\r\\n\\t\\t\\t\\t<!-- Çì´õ, ³×ºñ -->\\r\\n\\t\\t\\t\\t<div class=\"nav wrapper\">\\r\\n\\t\\t\\t\\t\\t<!-- ³×ÀÌ°ÔÀÌ¼Ç -->\\r\\n\\t\\t\\t\\t</div>\\t\\r\\n\\t\\t\\t</div>\\r\\n\\t\\t\\t<div id=\"container\">\\r\\n\\t\\t\\t\\t<!-- ÄÁÅÙÃ÷ -->\\r\\n            \\r\\n \\t\\t\\t\\t\\r\\n\\t\\t\\t\\t\\t\\t<div class=\"con-area spot-area wrapper\">\\r\\n\\t\\t\\t\\t\\t\\t\\t<div class=\"spot-wrap on\"><a href=\"http://www.imbc.com/notice/notice_2018/3389780_75022.html\"   ><img src=\"http://img.imbc.com/s2018m/s2018m_1/s2018m_1_1/s2018m_1_13/__icsFiles/afieldfile/2019/05/31/spot_banner2_23.png\" alt=\"MBC MEDIA DAY ½ÅÃ»ÇÏ±â\" /></a></div>\\r\\n\\t\\t\\t\\t\\t\\t</div>\\t\\t\\t\\t\\r\\n            \\t\\t\\t\\t\\t\\r\\n            \\t\\t\\t\\t\\r\\n\\t\\t\\t\\t<div class=\"con-area visual-area\">\\r\\n\\t\\t\\t\\t\\t<div class=\"visual\">\\r\\n\\t\\t\\t\\t\\t\\t<div class=\"visual-slide\"></div>\\r\\n\\t\\t\\t\\t\\t\\t<div class=\"visual-page-wrap wrapper\">\\r\\n\\t\\t\\t\\t\\t\\t\\t<div class=\"page-wrap\">\\r\\n\\t\\t\\t\\t\\t\\t\\t\\t<div class=\"visual-page pagination\">\\r\\n\\t\\t\\t\\t\\t\\t\\t\\t\\t<!--½½¶óÀÌµå pagination-->\\r\\n\\t\\t\\t\\t\\t\\t\\t\\t\\t<div class=\"pause\"><button class=\"stop\">pause</button></div>\\r\\n\\t\\t\\t\\t\\t\\t\\t\\t</div>\\r\\n\\t\\t\\t\\t\\t\\t\\t</div>\\r\\n\\t\\t\\t\\t\\t\\t</div>\\r\\n\\t\\t\\t\\t\\t</div>\\r\\n\\t\\t\\t\\t\\t<div class=\"rel-contents wrapper\">\\r\\n\\t\\t\\t\\t\\t\\t<div class=\"rel-Slide\"></div>\\r\\n\\t\\t\\t\\t\\t\\t<div class=\"rel-page pagination wrapper\"><!--½½¶óÀÌµå pagination--></div>\\r\\n\\t\\t\\t\\t\\t</div>\\r\\n\\t\\t\\t\\t</div>\\r\\n\\t\\t\\t\\t<div class=\"con-area onair-area\">\\r\\n\\t\\t\\t\\t\\t<h3 class=\"cont-tit\">ON AIR</h3>\\r\\n\\t\\t\\t\\t\\t<div class=\"onair-page pagination wrapper\"><!--½½¶óÀÌµå pagination--></div>\\r\\n\\t\\t\\t\\t\\t<div class=\"onair-slide arr-slide wrapper\"></div>\\r\\n\\t\\t\\t\\t</div>\\r\\n\\t\\t\\t\\t<div class=\"con-area resume-area wrapper\" style=\"display:none;\">\\r\\n\\t\\t\\t\\t\\t<div class=\"tit-wrap\">\\r\\n\\t\\t\\t\\t\\t\\t<h3 class=\"cont-tit\"></h3>\\r\\n\\t\\t\\t\\t\\t</div>\\r\\n\\t\\t\\t\\t\\t<div class=\"resume-page pagination\"><!--½½¶óÀÌµå pagination--></div>\\r\\n\\t\\t\\t\\t\\t<div class=\"resume-slide arr-slide\"></div>\\r\\n\\t\\t\\t\\t</div>\\t\\t\\r\\n\\t\\t\\t\\t<div class=\"con-area vod-area wrapper\">\\r\\n\\t\\t\\t\\t\\t<div class=\"tit-wrap\">\\r\\n\\t\\t\\t\\t\\t\\t<h3 class=\"cont-tit\">ÁÖ¿ä ¿µ»ó</h3>\\r\\n\\t\\t\\t\\t\\t\\t<div class=\"vod-tab\"></div>\\r\\n\\t\\t\\t\\t\\t\\t<div class=\"vod-page pagination\">\\r\\n\\t\\t\\t\\t\\t\\t\\t<!--½½¶óÀÌµå pagination-->\\t\\r\\n\\t\\t\\t\\t\\t\\t</div>\\r\\n\\t\\t\\t\\t\\t</div>\\r\\n\\t\\t\\t\\t\\t<div class=\"vod-slide arr-slide\">\\r\\n\\t\\t\\t\\t\\t</div>\\r\\n\\t\\t\\t\\t</div>\\r\\n\\t\\t\\t\\t<!-- ************************************************************************************ 190624 Editor\\'s pick ¿µ¿ª Ãß°¡ ¡å -->\\r\\n\\t\\t\\t\\t<div class=\"con-area edit-area\">\\r\\n\\t\\t\\t\\t\\t<div class=\"edit-wrap wrapper\">\\r\\n\\t\\t\\t\\t\\t\\t<!-- class¿¡ µû¶ó ÆùÆ® »ö»ó º¯°æ (drama, ent, culture, original) ¡å -->\\r\\n\\t\\t\\t\\t\\t\\t<h3 class=\"edit-title ellipsis\"></h3>\\r\\n\\t\\t\\t\\t\\t\\t<div class=\"edit-page pagination\"><!--½½¶óÀÌµå pagination--></div>\\r\\n\\t\\t\\t\\t\\t\\t<div class=\"edit-slide arr-slide\"></div>\\r\\n\\t\\t\\t\\t\\t</div>\\r\\n\\t\\t\\t\\t</div>\\r\\n\\t\\t\\t\\t<!-- ************************************************************************************ 190624 Editor\\'s pick ¿µ¿ª Ãß°¡ ¡ã -->\\t\\t\\t\\t\\t\\t\\t\\r\\n\\t\\t\\t\\t<div class=\"con-area ent-area\">\\r\\n\\t\\t\\t\\t\\t<div class=\"wrapper\">\\r\\n\\t\\t\\t\\t\\t\\t<!-- 190509 ¿¬¿¹ ¿µ¿ª ¼öÁ¤ ¡ä (head ¾È¿¡ ½½¶óÀÌµå script Ãß°¡ÇÔ) -->\\r\\n\\t\\t\\t\\t\\t\\t<div class=\"tit-wrap\">\\r\\n\\t\\t\\t\\t\\t\\t\\t<h3 class=\"cont-tit\">¿¬¿¹</h3>\\r\\n\\t\\t\\t\\t\\t\\t\\t<div class=\"ent-page pagination\"><!--½½¶óÀÌµå pagination--></div>\\r\\n\\t\\t\\t\\t\\t\\t</div>\\r\\n\\t\\t\\t\\t\\t\\t<div class=\"ent-slide-v2 arr-slide\"> \\r\\n\\t\\t\\t\\t\\t\\t\\t<div class=\"item\">\\r\\n\\t\\t\\t\\t\\t\\t\\t\\t<div class=\"ent-left\"></div>\\r\\n\\t\\t\\t\\t\\t\\t\\t\\t<div class=\"ent-right\">\\r\\n\\t\\t\\t\\t\\t\\t\\t\\t\\t<ul class=\"top-item\"></ul>\\r\\n\\t\\t\\t\\t\\t\\t\\t\\t\\t<ul class=\"bottom-item\"></ul>\\r\\n\\t\\t\\t\\t\\t\\t\\t\\t</div>\\r\\n\\t\\t\\t\\t\\t\\t\\t</div>\\r\\n\\t\\t\\t\\t\\t\\t\\t<div class=\"item\">\\r\\n\\t\\t\\t\\t\\t\\t\\t\\t<div class=\"ent-left\"></div>\\r\\n\\t\\t\\t\\t\\t\\t\\t\\t<div class=\"ent-right\">\\r\\n\\t\\t\\t\\t\\t\\t\\t\\t\\t<ul class=\"top-item\"></ul>\\r\\n\\t\\t\\t\\t\\t\\t\\t\\t\\t<ul class=\"bottom-item\"></ul>\\r\\n\\t\\t\\t\\t\\t\\t\\t\\t</div>\\r\\n\\t\\t\\t\\t\\t\\t\\t</div>\\r\\n\\t\\t\\t\\t\\t\\t</div>\\r\\n\\t\\t\\t\\t\\t\\t<!-- 190509 ¿¬¿¹ ¿µ¿ª ¼öÁ¤ ¡â -->\\r\\n\\t\\t\\t\\t\\t</div>\\r\\n\\t\\t\\t\\t</div>\\r\\n\\t\\t\\t\\t<div class=\"con-area sports-area\">\\r\\n\\t\\t\\t\\t\\t<div class=\"tit-wrap wrapper\">\\r\\n\\t\\t\\t\\t\\t\\t<h3 class=\"cont-tit\">½ºÆ÷Ã÷</h3>\\r\\n\\t\\t\\t\\t\\t</div>\\r\\n\\t\\t\\t\\t\\t<div class=\"sports-page pagination wrapper\">\\r\\n\\t\\t\\t\\t\\t\\t<!--½½¶óÀÌµå pagination-->\\t\\r\\n\\t\\t\\t\\t\\t</div>\\r\\n\\t\\t\\t\\t\\t<div class=\"sports-slide-wrap\">\\r\\n\\t\\t\\t\\t\\t\\t<div class=\"sports-slide arr-slide wrapper\"></div>\\r\\n\\t\\t\\t\\t\\t</div>\\r\\n\\t\\t\\t\\t</div>\\r\\n\\t\\t\\t\\t<!-- 190509 ¶óÀÌÇÁ, °øÁö»çÇ× ¿µ¿ª Ãß°¡ ¡ä -->\\r\\n\\t\\t\\t\\t<div class=\"con-area life-notice\">\\r\\n\\t\\t\\t\\t\\t<div class=\"wrapper\">\\r\\n\\t\\t\\t\\t\\t\\t<div class=\"con-wrap life-wrap\">\\r\\n\\t\\t\\t\\t\\t\\t\\t<div class=\"tit-wrap\">\\r\\n\\t\\t\\t\\t\\t\\t\\t\\t<h3 class=\"cont-tit\">¶óÀÌÇÁ</h3>\\r\\n\\t\\t\\t\\t\\t\\t\\t\\t<div class=\"more\"><a href=\"http://www.imbc.com/broad/life/\">MORE</a></div>\\r\\n\\t\\t\\t\\t\\t\\t\\t</div>\\r\\n\\t\\t\\t\\t\\t\\t\\t<div class=\"life-list\">\\r\\n\\t\\t\\t\\t\\t\\t\\t\\t<div class=\"life-left\"></div>\\r\\n\\t\\t\\t\\t\\t\\t\\t\\t<ul class=\"life-right\"></ul>\\r\\n\\t\\t\\t\\t\\t\\t\\t</div>\\r\\n\\t\\t\\t\\t\\t\\t</div>\\r\\n\\t\\t\\t\\t\\t\\t<div class=\"con-wrap notice-wrap\">\\r\\n\\t\\t\\t\\t\\t\\t\\t<div class=\"tit-wrap\">\\r\\n\\t\\t\\t\\t\\t\\t\\t\\t<h3 class=\"cont-tit\">°øÁö»çÇ×</h3>\\r\\n\\t\\t\\t\\t\\t\\t\\t\\t<div class=\"more\"><a href=\"http://www.imbc.com/notice/notice_2018/index.html\">MORE</a></div>\\r\\n\\t\\t\\t\\t\\t\\t\\t</div>\\r\\n\\t\\t\\t\\t\\t\\t\\t<div class=\"notice-list\">\\r\\n\\t\\t\\t\\t\\t\\t\\t\\t<ul>\\r\\n\\t\\t\\t\\t\\t\\t\\t\\t\\t \\r\\n\\t\\t\\t\\t\\t            \\r\\n\\t\\t\\t\\t\\t            \\r\\n\\t\\t\\t\\t\\t            <li><a href=\"http://www.imbc.com/notice/notice_2018/3411116_75022.html\"    class=\"ellipsis\">2019, ±è±¸¸¦ ¸¸³ª´Ù</a></li>\\r\\n\\t\\t\\t\\t\\t            \\r\\n\\t\\t\\t\\t\\t            \\r\\n\\t\\t\\t\\t\\t            <li><a href=\"http://www.imbc.com/notice/notice_2018/3397049_75022.html\"    class=\"ellipsis\">U2 Ã¹ ³»ÇÑ°ø¿¬ ¾È³»</a></li>\\r\\n\\t\\t\\t\\t\\t            \\r\\n\\t\\t\\t\\t\\t            \\r\\n\\t\\t\\t\\t\\t            <li><a href=\"http://www.imbc.com/notice/notice_2018/3389780_75022.html\"    class=\"ellipsis\">MBC MEDIA DAY¿¡ ÃÊ´ëÇÕ´Ï´Ù</a></li>\\r\\n\\t\\t\\t\\t\\t            \\r\\n\\t\\t\\t\\t\\t\\t\\t\\t</ul>\\r\\n\\t\\t\\t\\t\\t\\t\\t</div>\\r\\n\\t\\t\\t\\t\\t\\t</div>\\r\\n\\t\\t\\t\\t\\t</div>\\r\\n\\t\\t\\t\\t</div>\\r\\n\\t\\t\\t\\t<!-- 190509 ¶óÀÌÇÁ, °øÁö»çÇ× ¿µ¿ª Ãß°¡ ¡â -->\\t\\t\\t\\t\\r\\n\\t\\t\\t\\t<div class=\"con-area banner-area\">\\r\\n                    <div class=\"wrapper\">\\r\\n                        <div class=\"ban-wrap ban-top\">\\r\\n                            <div class=\"ban-left ban-slide-wrap\">\\r\\n                                <div class=\"ban-count\"></div>\\r\\n                                <div class=\"ban-slide arr-slide\"></div>\\r\\n                            </div>\\r\\n                            <div class=\"ban-right grid-link\">\\r\\n                                <ul></ul>\\r\\n                            </div>\\r\\n                        </div>\\r\\n                        <div class=\"ban-wrap ban-bottom\">\\r\\n                            <div class=\"ban-left ad-area\">\\r\\n                                    <iframe style=\"margin-left:-16px;width:810px; height:50px\" noresize scrolling=\"no\" frameborder=\"0\" marginheight=\"0\" marginwidth=\"0\" src=\"http://ads.imbc.com/RealMedia/ads/adstream_sx.ads/www.imbc.com/main@BottomLeft\" title=\"±¤°í\"><a href=\"http://ads.imbc.com/RealMedia/ads/click_nx.ads/www.imbc.com/main@BottomLeft\"><img src=\"http://ads.imbc.com/RealMedia/ads/adstream_nx.ads/www.imbc.com/main@BottomLeft\" alt=\"±¤°í\"></a></iframe>\\r\\n                            </div>\\r\\n                            <div class=\"ban-right ad-area\">\\r\\n                                    <iframe style=\"width:386px; height:50px\" noresize scrolling=\"no\" frameborder=\"0\" marginheight=\"0\" marginwidth=\"0\" \\r\\n                                    src=\"http://ads.imbc.com/RealMedia/ads/adstream_sx.ads/www.imbc.com/main@BottomRight\" title=\"±¤°í\"><a \\r\\n                                    href=\"http://ads.imbc.com/RealMedia/ads/click_nx.ads/www.imbc.com/main@BottomRight\"><img \\r\\n                                    src=\"http://ads.imbc.com/RealMedia/ads/adstream_nx.ads/www.imbc.com/main@BottomRight\" alt=\"±¤°í\"></a></iframe>\\r\\n                            </div>\\r\\n                        </div>\\r\\n                    </div>\\r\\n\\t\\t\\t\\t</div>\\r\\n\\t\\t\\t</div>\\r\\n\\t\\t\\t<div id=\"footer\">\\r\\n\\t\\t\\t\\t<!-- ÇªÅÍ -->\\r\\n\\t\\t\\t\\t<div class=\"fnb wrapper\">\\r\\n\\t\\t\\t\\t\\t<!-- ÇªÅÍ ºÒ·¯¿À´Â °÷ -->\\r\\n\\t\\t\\t\\t</div>\\r\\n\\t\\t\\t</div>\\r\\n\\t\\t</div>\\r\\n\\t</div>\\r\\n<script type=\"text/javascript\">\\r\\n(function(w, d, a){\\r\\n\\tw.__beusablerumclient__ = {\\r\\n\\t\\tload : function(src){\\r\\n\\t\\t\\tvar b = d.createElement(\"script\");\\r\\n\\t\\t\\tb.src = src; b.async=true; b.type = \"text/javascript\";\\r\\n\\t\\t\\td.getElementsByTagName(\"head\")[0].appendChild(b);\\r\\n\\t\\t}\\r\\n\\t};w.__beusablerumclient__.load(a);\\r\\n})(window, document, \\'//rum.beusable.net/script/b190104e170439u504/c61423209b\\');\\r\\n</script>\\r\\n\\r\\n</body>\\r\\n</html>'"
      ]
     },
     "execution_count": 3,
     "metadata": {},
     "output_type": "execute_result"
    }
   ],
   "source": [
    "s.get('http://www.imbc.com/').text"
   ]
  },
  {
   "cell_type": "code",
   "execution_count": null,
   "metadata": {},
   "outputs": [],
   "source": []
  }
 ],
 "metadata": {
  "kernelspec": {
   "display_name": "Python 3",
   "language": "python",
   "name": "python3"
  },
  "language_info": {
   "codemirror_mode": {
    "name": "ipython",
    "version": 3
   },
   "file_extension": ".py",
   "mimetype": "text/x-python",
   "name": "python",
   "nbconvert_exporter": "python",
   "pygments_lexer": "ipython3",
   "version": "3.7.0"
  }
 },
 "nbformat": 4,
 "nbformat_minor": 2
}
